{
  "nbformat": 4,
  "nbformat_minor": 0,
  "metadata": {
    "colab": {
      "provenance": [],
      "authorship_tag": "ABX9TyOAOyOyoaua44adsgmnAlxa",
      "include_colab_link": true
    },
    "kernelspec": {
      "name": "python3",
      "display_name": "Python 3"
    },
    "language_info": {
      "name": "python"
    }
  },
  "cells": [
    {
      "cell_type": "markdown",
      "metadata": {
        "id": "view-in-github",
        "colab_type": "text"
      },
      "source": [
        "<a href=\"https://colab.research.google.com/github/Parkshinhyang/Data-Structure/blob/main/%EC%9D%B4%EC%A7%84%ED%8A%B8%EB%A6%AC_%EA%B0%84%EB%8B%A8_%EA%B5%AC%ED%98%84.ipynb\" target=\"_parent\"><img src=\"https://colab.research.google.com/assets/colab-badge.svg\" alt=\"Open In Colab\"/></a>"
      ]
    },
    {
      "cell_type": "markdown",
      "source": [
        "## 연결리스트로 이진트리 구현"
      ],
      "metadata": {
        "id": "gv-HGaUHS_9n"
      }
    },
    {
      "cell_type": "code",
      "execution_count": null,
      "metadata": {
        "colab": {
          "base_uri": "https://localhost:8080/"
        },
        "id": "6eabZGEoBYxj",
        "outputId": "fae6174a-1bef-43bc-c1e7-2ba30e427ea0"
      },
      "outputs": [
        {
          "output_type": "stream",
          "name": "stdout",
          "text": [
            "화사\n",
            "솔라 휘인 \n",
            "문별 쯔위 "
          ]
        }
      ],
      "source": [
        "class treenode():\n",
        "    def __init__(self):\n",
        "        self.node = None\n",
        "        self.left = None\n",
        "        self.right= None\n",
        "\n",
        "node1 = treenode()\n",
        "node1.data = '화사'\n",
        "\n",
        "node2 = treenode()\n",
        "node2.data = '솔라'\n",
        "node1.left = node2\n",
        "\n",
        "node3 = treenode()\n",
        "node3.data = '휘인'\n",
        "node1.right = node3\n",
        "\n",
        "node4 = treenode()\n",
        "node4.data = '문별'\n",
        "node2.left = node4\n",
        "\n",
        "node5 = treenode()\n",
        "node5.data = '쯔위'\n",
        "node3.left = node5\n",
        "\n",
        "print(node1.data)\n",
        "print(node1.left.data, node1.right.data, end=' ')\n",
        "print()\n",
        "print(node2.left.data, node3.left.data, end=' ')"
      ]
    },
    {
      "cell_type": "markdown",
      "source": [
        "## 이진트리 탐색\n"
      ],
      "metadata": {
        "id": "FD3sl7bnTEbO"
      }
    },
    {
      "cell_type": "code",
      "source": [
        "def preorder(node):\n",
        "    if node == None:\n",
        "        return \n",
        "    print(node.data, end='->')\n",
        "    preorder(node.left)\n",
        "    preorder(node.right)\n",
        "\n",
        "def inorder(node):\n",
        "    if node == None:\n",
        "        return\n",
        "    inorder(node.left)\n",
        "    print(node.data, end='->')\n",
        "    inorder(node.right)\n",
        "\n",
        "def postorder(node):\n",
        "    if node == None:\n",
        "        return\n",
        "    postorder(node.left)\n",
        "    postorder(node.right)\n",
        "    print(node.data, end='->')\n",
        "\n",
        "print('전위 순회 : ', end='')\n",
        "preorder(node1)\n",
        "print(\"순회 끝\")\n",
        "\n",
        "print('중위 순회 : ', end='')\n",
        "inorder(node1)\n",
        "print(\"순회 끝\")\n",
        "\n",
        "print('후위 순회 : ', end='')\n",
        "postorder(node1)\n",
        "print(\"순회 끝\")"
      ],
      "metadata": {
        "colab": {
          "base_uri": "https://localhost:8080/"
        },
        "id": "7BOSnswyJRy1",
        "outputId": "69deff12-abdc-463c-d240-23defbdf274f"
      },
      "execution_count": null,
      "outputs": [
        {
          "output_type": "stream",
          "name": "stdout",
          "text": [
            "전위 순회 : 화사->솔라->문별->휘인->쯔위->순회 끝\n",
            "중위 순회 : 문별->솔라->화사->쯔위->휘인->순회 끝\n",
            "후위 순회 : 문별->솔라->쯔위->휘인->화사->순회 끝\n"
          ]
        }
      ]
    }
  ]
}